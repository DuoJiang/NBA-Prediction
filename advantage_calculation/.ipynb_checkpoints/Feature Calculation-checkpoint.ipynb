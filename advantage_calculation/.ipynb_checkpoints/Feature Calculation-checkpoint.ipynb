{
 "cells": [
  {
   "cell_type": "code",
   "execution_count": 1,
   "metadata": {
    "ExecuteTime": {
     "end_time": "2019-12-04T17:34:41.044704Z",
     "start_time": "2019-12-04T17:34:40.800989Z"
    }
   },
   "outputs": [],
   "source": [
    "import pandas as pd\n",
    "import numpy as np\n",
    "import os\n",
    "import random\n",
    "path = os.getcwd()\n",
    "name = pd.read_csv(path + '/name_abb.csv')\n",
    "name_dict = dict(zip(name['Franchise'],name['Abbreviation/Acronym']))"
   ]
  },
  {
   "cell_type": "code",
   "execution_count": 2,
   "metadata": {
    "ExecuteTime": {
     "end_time": "2019-12-04T17:34:43.058055Z",
     "start_time": "2019-12-04T17:34:41.875136Z"
    },
    "code_folding": []
   },
   "outputs": [],
   "source": [
    "# import the lineup csv\n",
    "temp = pd.read_csv(path + '/all_combined.csv')"
   ]
  },
  {
   "cell_type": "code",
   "execution_count": 3,
   "metadata": {
    "ExecuteTime": {
     "end_time": "2019-12-04T17:34:45.929054Z",
     "start_time": "2019-12-04T17:34:45.823391Z"
    },
    "code_folding": []
   },
   "outputs": [
    {
     "name": "stderr",
     "output_type": "stream",
     "text": [
      "/anaconda3/lib/python3.7/site-packages/ipykernel_launcher.py:12: SettingWithCopyWarning: \n",
      "A value is trying to be set on a copy of a slice from a DataFrame.\n",
      "Try using .loc[row_indexer,col_indexer] = value instead\n",
      "\n",
      "See the caveats in the documentation: http://pandas.pydata.org/pandas-docs/stable/indexing.html#indexing-view-versus-copy\n",
      "  if sys.path[0] == '':\n",
      "/anaconda3/lib/python3.7/site-packages/ipykernel_launcher.py:14: SettingWithCopyWarning: \n",
      "A value is trying to be set on a copy of a slice from a DataFrame.\n",
      "Try using .loc[row_indexer,col_indexer] = value instead\n",
      "\n",
      "See the caveats in the documentation: http://pandas.pydata.org/pandas-docs/stable/indexing.html#indexing-view-versus-copy\n",
      "  \n"
     ]
    }
   ],
   "source": [
    "# there is no away team, so I am going to find one.\n",
    "sche = pd.read_csv(path+'/total_schedule.csv')\n",
    "\n",
    "sche_home_away_date = sche[['Visitor/Neutral','Home/Neutral',\n",
    "                            'Home_abb',\n",
    "                            'Date_fmt',\n",
    "                            'Season','PTS','PTS.1']]\n",
    "sche_home_away_date.columns = ['Visitor/Neutral','Home/Neutral',\n",
    "                               'TEAM','GAMEDAY',\n",
    "                               'SEASON','AWAYSCORE','HOMESCORE']\n",
    "# format the date into datetime stamp\n",
    "sche_home_away_date['GAMEDAY_FMT'] = pd.to_datetime(sche_home_away_date.GAMEDAY)\n",
    "# find the abbrevation for away team\n",
    "sche_home_away_date['AWAY'] = [name_dict[n] for n in sche_home_away_date['Visitor/Neutral']]"
   ]
  },
  {
   "cell_type": "code",
   "execution_count": 4,
   "metadata": {
    "ExecuteTime": {
     "end_time": "2019-12-04T17:34:52.343755Z",
     "start_time": "2019-12-04T17:34:52.222427Z"
    },
    "code_folding": []
   },
   "outputs": [],
   "source": [
    "# add the season in temp\n",
    "temp['SEASON'] = [gameday[0:4] for gameday in temp['GAMEDAY']]"
   ]
  },
  {
   "cell_type": "code",
   "execution_count": 5,
   "metadata": {
    "ExecuteTime": {
     "end_time": "2019-12-04T17:34:52.547889Z",
     "start_time": "2019-12-04T17:34:52.512506Z"
    }
   },
   "outputs": [
    {
     "name": "stderr",
     "output_type": "stream",
     "text": [
      "/anaconda3/lib/python3.7/site-packages/ipykernel_launcher.py:1: SettingWithCopyWarning: \n",
      "A value is trying to be set on a copy of a slice from a DataFrame.\n",
      "Try using .loc[row_indexer,col_indexer] = value instead\n",
      "\n",
      "See the caveats in the documentation: http://pandas.pydata.org/pandas-docs/stable/indexing.html#indexing-view-versus-copy\n",
      "  \"\"\"Entry point for launching an IPython kernel.\n"
     ]
    }
   ],
   "source": [
    "sche_home_away_date['SEASON_FMT'] = sche_home_away_date['SEASON'].str.replace( \"\\-\\d\\d\", \"\")"
   ]
  },
  {
   "cell_type": "code",
   "execution_count": 6,
   "metadata": {
    "ExecuteTime": {
     "end_time": "2019-12-04T17:34:53.114055Z",
     "start_time": "2019-12-04T17:34:53.095541Z"
    }
   },
   "outputs": [
    {
     "data": {
      "text/html": [
       "<div>\n",
       "<style scoped>\n",
       "    .dataframe tbody tr th:only-of-type {\n",
       "        vertical-align: middle;\n",
       "    }\n",
       "\n",
       "    .dataframe tbody tr th {\n",
       "        vertical-align: top;\n",
       "    }\n",
       "\n",
       "    .dataframe thead th {\n",
       "        text-align: right;\n",
       "    }\n",
       "</style>\n",
       "<table border=\"1\" class=\"dataframe\">\n",
       "  <thead>\n",
       "    <tr style=\"text-align: right;\">\n",
       "      <th></th>\n",
       "      <th>Visitor/Neutral</th>\n",
       "      <th>Home/Neutral</th>\n",
       "      <th>TEAM</th>\n",
       "      <th>GAMEDAY</th>\n",
       "      <th>SEASON</th>\n",
       "      <th>AWAYSCORE</th>\n",
       "      <th>HOMESCORE</th>\n",
       "      <th>GAMEDAY_FMT</th>\n",
       "      <th>AWAY</th>\n",
       "      <th>SEASON_FMT</th>\n",
       "    </tr>\n",
       "  </thead>\n",
       "  <tbody>\n",
       "    <tr>\n",
       "      <th>0</th>\n",
       "      <td>Los Angeles Lakers</td>\n",
       "      <td>Seattle SuperSonics</td>\n",
       "      <td>SEA</td>\n",
       "      <td>2008-01-14</td>\n",
       "      <td>2007-08</td>\n",
       "      <td>123</td>\n",
       "      <td>121</td>\n",
       "      <td>2008-01-14</td>\n",
       "      <td>LAL</td>\n",
       "      <td>2007</td>\n",
       "    </tr>\n",
       "    <tr>\n",
       "      <th>1</th>\n",
       "      <td>Houston Rockets</td>\n",
       "      <td>San Antonio Spurs</td>\n",
       "      <td>SAS</td>\n",
       "      <td>2007-11-16</td>\n",
       "      <td>2007-08</td>\n",
       "      <td>84</td>\n",
       "      <td>90</td>\n",
       "      <td>2007-11-16</td>\n",
       "      <td>HOU</td>\n",
       "      <td>2007</td>\n",
       "    </tr>\n",
       "    <tr>\n",
       "      <th>2</th>\n",
       "      <td>Sacramento Kings</td>\n",
       "      <td>Boston Celtics</td>\n",
       "      <td>BOS</td>\n",
       "      <td>2007-12-12</td>\n",
       "      <td>2007-08</td>\n",
       "      <td>78</td>\n",
       "      <td>90</td>\n",
       "      <td>2007-12-12</td>\n",
       "      <td>SAC</td>\n",
       "      <td>2007</td>\n",
       "    </tr>\n",
       "    <tr>\n",
       "      <th>3</th>\n",
       "      <td>Utah Jazz</td>\n",
       "      <td>Miami Heat</td>\n",
       "      <td>MIA</td>\n",
       "      <td>2007-12-22</td>\n",
       "      <td>2007-08</td>\n",
       "      <td>102</td>\n",
       "      <td>104</td>\n",
       "      <td>2007-12-22</td>\n",
       "      <td>UTA</td>\n",
       "      <td>2007</td>\n",
       "    </tr>\n",
       "    <tr>\n",
       "      <th>4</th>\n",
       "      <td>Detroit Pistons</td>\n",
       "      <td>Boston Celtics</td>\n",
       "      <td>BOS</td>\n",
       "      <td>2008-05-28</td>\n",
       "      <td>2007-08</td>\n",
       "      <td>102</td>\n",
       "      <td>106</td>\n",
       "      <td>2008-05-28</td>\n",
       "      <td>DET</td>\n",
       "      <td>2007</td>\n",
       "    </tr>\n",
       "  </tbody>\n",
       "</table>\n",
       "</div>"
      ],
      "text/plain": [
       "      Visitor/Neutral         Home/Neutral TEAM     GAMEDAY   SEASON  \\\n",
       "0  Los Angeles Lakers  Seattle SuperSonics  SEA  2008-01-14  2007-08   \n",
       "1     Houston Rockets    San Antonio Spurs  SAS  2007-11-16  2007-08   \n",
       "2    Sacramento Kings       Boston Celtics  BOS  2007-12-12  2007-08   \n",
       "3           Utah Jazz           Miami Heat  MIA  2007-12-22  2007-08   \n",
       "4     Detroit Pistons       Boston Celtics  BOS  2008-05-28  2007-08   \n",
       "\n",
       "   AWAYSCORE  HOMESCORE GAMEDAY_FMT AWAY SEASON_FMT  \n",
       "0        123        121  2008-01-14  LAL       2007  \n",
       "1         84         90  2007-11-16  HOU       2007  \n",
       "2         78         90  2007-12-12  SAC       2007  \n",
       "3        102        104  2007-12-22  UTA       2007  \n",
       "4        102        106  2008-05-28  DET       2007  "
      ]
     },
     "execution_count": 6,
     "metadata": {},
     "output_type": "execute_result"
    }
   ],
   "source": [
    "sche_home_away_date.head()"
   ]
  },
  {
   "cell_type": "markdown",
   "metadata": {},
   "source": [
    "# features to calculate\n",
    "\n",
    "This notebook aims to calculate the advantage part of the featues.\n",
    "- Offensive Advantages\n",
    "    - \"OFFRTG of A - DEFRTG of B\" in the most recent records\n",
    "        - OFFRTG of A is calculated as the weighted average of the top 10 lineups\n",
    "        - DEFRTG of B is calculated as the weighted average of the top 10 lineups "
   ]
  },
  {
   "cell_type": "code",
   "execution_count": null,
   "metadata": {},
   "outputs": [],
   "source": [
    "temp['']"
   ]
  },
  {
   "cell_type": "markdown",
   "metadata": {},
   "source": [
    "Let us try to start from a small instance to get a feel.\n",
    "\n",
    "Randomly picked a game.\n",
    " - 2018.12.30 MIN vs. MIA\n",
    " - Previous n Games"
   ]
  },
  {
   "cell_type": "code",
   "execution_count": null,
   "metadata": {},
   "outputs": [],
   "source": [
    "# find all previous games of two team\n",
    "# including their last season\n",
    "def findpreviousgames(home, away, pred_day, season, include_last = True):\n",
    "    prev_season = str(int(season) -1)\n",
    "    all_last_season_home_games = sche_home_away_date.loc[(sche_home_away_date['SEASON_FMT'] == prev_season) & \n",
    "                                                 (sche_home_away_date['GAMEDAY_FMT'] < pred_day) &\n",
    "                                                 ((sche_home_away_date['TEAM'] == home) & \n",
    "                                                 (sche_home_away_date['AWAY'] == away))]\n",
    "    all_last_season_away_games = sche_home_away_date.loc[(sche_home_away_date['SEASON_FMT'] == prev_season) & \n",
    "                                                 (sche_home_away_date['GAMEDAY_FMT'] < pred_day) &\n",
    "                                                 ((sche_home_away_date['TEAM'] == away) & \n",
    "                                                 (sche_home_away_date['AWAY'] == home))]\n",
    "    all_this_season_home_games = sche_home_away_date.loc[(sche_home_away_date['SEASON_FMT'] == season) & \n",
    "                                                 (sche_home_away_date['GAMEDAY_FMT'] < pred_day) &\n",
    "                                                 ((sche_home_away_date['TEAM'] == home) & \n",
    "                                                 (sche_home_away_date['AWAY'] == away))]\n",
    "    all_this_season_away_games = sche_home_away_date.loc[(sche_home_away_date['SEASON_FMT'] == season) & \n",
    "                                                 (sche_home_away_date['GAMEDAY_FMT'] < pred_day) &\n",
    "                                                 ((sche_home_away_date['TEAM'] == away) & \n",
    "                                                 (sche_home_away_date['AWAY'] == home))]\n",
    "    if include_last:\n",
    "        return pd.DataFrame(pd.concat([all_last_season_home_games,\n",
    "                                    all_last_season_away_games,\n",
    "                                    all_this_season_home_games,\n",
    "                                    all_this_season_home_games]))\n",
    "    else:\n",
    "        return pd.DataFrame(pd.concat([all_this_season_home_games,\n",
    "                                    all_this_away_games]))"
   ]
  },
  {
   "cell_type": "code",
   "execution_count": null,
   "metadata": {},
   "outputs": [],
   "source": [
    "# testing\n",
    "findpreviousgames(home = 'MIA', away = 'MIN', pred_day = '2018-12-30', season = '2018')"
   ]
  },
  {
   "cell_type": "code",
   "execution_count": null,
   "metadata": {},
   "outputs": [],
   "source": [
    "# find lineups data\n",
    "def find_lineups_stats(team,gameday):\n",
    "    stats = temp.loc[(temp['TEAM'] == team) & (temp['GAMEDAY'] == gameday)]\n",
    "    return stats\n",
    "\n",
    "# calculate the relevant features: weighted average of their feature\n",
    "# weighted by time played in the game\n",
    "def calculate_weighted_feature(season,lineup_stats,\n",
    "                               feature,\n",
    "                               max_lineup_considered = 10, \n",
    "                               time_disc = 0.90):\n",
    "    try:\n",
    "        total_time = np.sum(lineup_stats['MIN'])\n",
    "        weighted_feature = 0\n",
    "\n",
    "        for index, lineup in lineup_stats.iterrows():\n",
    "\n",
    "            # previous data is discounted\n",
    "            if int(lineup['SEASON']) < int(season):\n",
    "                weighted_feature += \\\n",
    "                time_disc * (((lineup['MIN']/total_time) * lineup[feature]))\n",
    "            else:\n",
    "                weighted_feature += \\\n",
    "                (((lineup['MIN']/total_time) * lineup[feature]))\n",
    "            if index > 10:\n",
    "                break\n",
    "        \n",
    "        return weighted_feature\n",
    "            \n",
    "    except:\n",
    "        print('Error')\n",
    "        print(lineup_stats.head())\n",
    "    "
   ]
  },
  {
   "cell_type": "code",
   "execution_count": null,
   "metadata": {
    "code_folding": []
   },
   "outputs": [],
   "source": [
    "# testing:\n",
    "bos181016 = find_lineups_stats('BOS','2018-10-16')\n",
    "# print(calculate_weighted_feature(lineup_stats=bos181016,feature = 'OFFRTG'))\n",
    "# print(calculate_weighted_feature(lineup_stats=bos181016,feature = 'DEFRTG'))"
   ]
  },
  {
   "cell_type": "code",
   "execution_count": null,
   "metadata": {},
   "outputs": [],
   "source": [
    "# calculate the feature for game 2018.12.30 MIN vs. MIA\n",
    "previous_games_test = findpreviousgames(home = 'MIA', away = 'MIN', pred_day = '2018-12-30', season = '2018')\n",
    "# find the relevant lineup stats for two teams\n",
    "def find_lineup_records_for_two_teams(games):\n",
    "    team1_stats = pd.DataFrame()\n",
    "    team2_stats = pd.DataFrame()\n",
    "    for index, game in games.iterrows():\n",
    "        # we don't know who is home\n",
    "        team1 = game['TEAM']\n",
    "        team2 = game['AWAY']\n",
    "        if index == 1:\n",
    "            team1_stats = find_lineups_stats(team1,game['GAMEDAY'])\n",
    "            team2_stats = find_lineups_stats(team2,game['GAMEDAY'])\n",
    "        else:\n",
    "            team1_stats = pd.concat([team1_stats,find_lineups_stats(team1,game['GAMEDAY'])])\n",
    "            team2_stats = pd.concat([team2_stats,find_lineups_stats(team2,game['GAMEDAY'])])\n",
    "    \n",
    "    return (team1_stats,team2_stats)"
   ]
  },
  {
   "cell_type": "code",
   "execution_count": null,
   "metadata": {
    "code_folding": []
   },
   "outputs": [],
   "source": [
    "# testing\n",
    "result0 = find_lineup_records_for_two_teams(previous_games_test)[0]\n",
    "result1 = find_lineup_records_for_two_teams(previous_games_test)[1]\n",
    "print('Weighted OFF of MIA:', calculate_weighted_feature(pred_season = '2018', lineup_stats=result0,feature = 'OFFRTG'))\n",
    "print('Weighted OFF of MIN:', calculate_weighted_feature(pred_season = '2018', lineup_stats=result1,feature = 'OFFRTG'))"
   ]
  },
  {
   "cell_type": "code",
   "execution_count": null,
   "metadata": {},
   "outputs": [],
   "source": [
    "previous_games_test = findpreviousgames(home = 'MIA', away = 'MIN', pred_day = '2018-12-30', season = '2018')\n",
    "previous_games_test"
   ]
  },
  {
   "cell_type": "markdown",
   "metadata": {},
   "source": [
    "# Next Step:\n",
    "- calculate the feature for all games records\n",
    "- The final table is called 'targ_data'"
   ]
  },
  {
   "cell_type": "code",
   "execution_count": null,
   "metadata": {},
   "outputs": [],
   "source": [
    "targ_data = sche_home_away_date[['TEAM','AWAY',\n",
    "                                'GAMEDAY_FMT','SEASON_FMT',\n",
    "                                'AWAYSCORE','HOMESCORE']]\n",
    "# construct a target variable\n",
    "targ_data['HOMEWIN'] = [int(int(game['AWAYSCORE']) < int(game['HOMESCORE'])) \\\n",
    "                        for index, game in targ_data.iterrows()]"
   ]
  },
  {
   "cell_type": "markdown",
   "metadata": {},
   "source": [
    "For each game, we should:\n",
    "- Find all its previous games\n",
    "- Calculate the weighted average of the features\n",
    "    - nextstep is to make the calculation of a list of features possible"
   ]
  },
  {
   "cell_type": "code",
   "execution_count": null,
   "metadata": {},
   "outputs": [],
   "source": [
    "# testing on five games\n",
    "targ_data_test = targ_data.iloc[255:260]\n",
    "HOME_FEATURE1,AWAY_FEATURE1,HOME_FEATURE2,AWAY_FEATURE2 = ([] for _ in range(4))\n",
    "homestorage = dict(zip(list(range(1,3)),[HOME_FEATURE1,HOME_FEATURE2]))\n",
    "awaystorage = dict(zip(list(range(1,3)),[AWAY_FEATURE1,AWAY_FEATURE2]))\n",
    "for index, game in targ_data_test.iterrows():\n",
    "\n",
    "    # first finds all previous games\n",
    "    home = game['TEAM']\n",
    "    away = game['AWAY']\n",
    "    gameday = game['GAMEDAY_FMT']\n",
    "    season = game['SEASON_FMT']\n",
    "    feature = ['OFFRTG','DEFRTG']\n",
    "    home_feature = 0\n",
    "    away_feature = 0\n",
    "    previous_games_now = findpreviousgames(home = home, away = away,\n",
    "                                      pred_day = gameday,\n",
    "                                      season = season)\n",
    "    \n",
    "    # then finds the relevant lineup stats\n",
    "    homestats, awaystats = find_lineup_records_for_two_teams(previous_games_now)\n",
    "    \n",
    "    # then calculate the weighted features\n",
    "    for i in range(len(feature)):\n",
    "        home_feature = calculate_weighted_feature(season = season, \n",
    "                                                   lineup_stats= homestats,\n",
    "                                                   feature = feature[i])\n",
    "\n",
    "        away_feature = calculate_weighted_feature(season = season, \n",
    "                                                   lineup_stats= awaystats,\n",
    "                                                   feature = feature[i])\n",
    "        # store it somewhere\n",
    "        homestorage[i+1].append(home_feature)\n",
    "        awaystorage[i+1].append(away_feature)\n"
   ]
  },
  {
   "cell_type": "code",
   "execution_count": null,
   "metadata": {},
   "outputs": [],
   "source": [
    "targ_data_test"
   ]
  },
  {
   "cell_type": "code",
   "execution_count": null,
   "metadata": {},
   "outputs": [],
   "source": [
    "# findpreviousgames(home = 'SEA', away = 'CHA', pred_day = '2008-03-28', season = '2007')"
   ]
  },
  {
   "cell_type": "code",
   "execution_count": null,
   "metadata": {},
   "outputs": [],
   "source": [
    "storage = dict(zip(list(range(1,5)),[HOME_FEATURE1,AWAY_FEATURE1,HOME_FEATURE2,AWAY_FEATURE2]))"
   ]
  },
  {
   "cell_type": "code",
   "execution_count": null,
   "metadata": {},
   "outputs": [],
   "source": [
    "homestorage"
   ]
  },
  {
   "cell_type": "code",
   "execution_count": null,
   "metadata": {},
   "outputs": [],
   "source": [
    "awaystorage"
   ]
  },
  {
   "cell_type": "code",
   "execution_count": null,
   "metadata": {},
   "outputs": [],
   "source": []
  }
 ],
 "metadata": {
  "kernelspec": {
   "display_name": "Python 3",
   "language": "python",
   "name": "python3"
  },
  "language_info": {
   "codemirror_mode": {
    "name": "ipython",
    "version": 3
   },
   "file_extension": ".py",
   "mimetype": "text/x-python",
   "name": "python",
   "nbconvert_exporter": "python",
   "pygments_lexer": "ipython3",
   "version": "3.7.3"
  },
  "latex_envs": {
   "LaTeX_envs_menu_present": true,
   "autoclose": false,
   "autocomplete": true,
   "bibliofile": "biblio.bib",
   "cite_by": "apalike",
   "current_citInitial": 1,
   "eqLabelWithNumbers": true,
   "eqNumInitial": 1,
   "hotkeys": {
    "equation": "Ctrl-E",
    "itemize": "Ctrl-I"
   },
   "labels_anchors": false,
   "latex_user_defs": false,
   "report_style_numbering": false,
   "user_envs_cfg": false
  },
  "toc": {
   "base_numbering": 1,
   "nav_menu": {},
   "number_sections": true,
   "sideBar": true,
   "skip_h1_title": false,
   "title_cell": "Table of Contents",
   "title_sidebar": "Contents",
   "toc_cell": false,
   "toc_position": {},
   "toc_section_display": true,
   "toc_window_display": false
  },
  "varInspector": {
   "cols": {
    "lenName": 16,
    "lenType": 16,
    "lenVar": 40
   },
   "kernels_config": {
    "python": {
     "delete_cmd_postfix": "",
     "delete_cmd_prefix": "del ",
     "library": "var_list.py",
     "varRefreshCmd": "print(var_dic_list())"
    },
    "r": {
     "delete_cmd_postfix": ") ",
     "delete_cmd_prefix": "rm(",
     "library": "var_list.r",
     "varRefreshCmd": "cat(var_dic_list()) "
    }
   },
   "types_to_exclude": [
    "module",
    "function",
    "builtin_function_or_method",
    "instance",
    "_Feature"
   ],
   "window_display": false
  }
 },
 "nbformat": 4,
 "nbformat_minor": 2
}
