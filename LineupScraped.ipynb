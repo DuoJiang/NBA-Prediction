{
 "cells": [
  {
   "cell_type": "markdown",
   "metadata": {},
   "source": [
    "## LineUp Table Scraping"
   ]
  },
  {
   "cell_type": "markdown",
   "metadata": {},
   "source": [
    "### Packages"
   ]
  },
  {
   "cell_type": "code",
   "execution_count": 1,
   "metadata": {
    "ExecuteTime": {
     "end_time": "2019-11-26T03:09:34.511218Z",
     "start_time": "2019-11-26T03:09:34.010015Z"
    }
   },
   "outputs": [],
   "source": [
    "import pandas as pd, numpy as np\n",
    "import asyncio\n",
    "import time, random\n",
    "import datetime\n",
    "from pyppeteer import launch\n",
    "from selenium import webdriver\n",
    "from selenium.webdriver.support.wait import WebDriverWait\n",
    "from bs4 import BeautifulSoup"
   ]
  },
  {
   "cell_type": "markdown",
   "metadata": {},
   "source": [
    "### IP Pools"
   ]
  },
  {
   "cell_type": "code",
   "execution_count": 145,
   "metadata": {
    "ExecuteTime": {
     "end_time": "2019-11-24T08:14:25.100514Z",
     "start_time": "2019-11-24T08:14:25.097295Z"
    }
   },
   "outputs": [],
   "source": [
    "ips = []\n",
    "with open(\"Scrape/ip_pool.txt\", \"r\") as file:\n",
    "    for line in file:\n",
    "        ips.append(line.strip(\" \\n+\"))"
   ]
  },
  {
   "cell_type": "code",
   "execution_count": 150,
   "metadata": {
    "ExecuteTime": {
     "end_time": "2019-11-24T08:16:10.334121Z",
     "start_time": "2019-11-24T08:16:10.330193Z"
    }
   },
   "outputs": [
    {
     "data": {
      "text/plain": [
       "['183.182.101.32:60564',\n",
       " '94.127.144.179:37690',\n",
       " '177.92.79.10:80',\n",
       " '168.197.115.152:50368',\n",
       " '89.34.202.96:30825',\n",
       " '103.221.254.2:38689',\n",
       " '36.89.180.35:44255',\n",
       " '185.118.49.11:3128',\n",
       " '89.34.202.96:30825',\n",
       " '189.204.241.44:56792']"
      ]
     },
     "execution_count": 150,
     "metadata": {},
     "output_type": "execute_result"
    }
   ],
   "source": [
    "ips"
   ]
  },
  {
   "cell_type": "markdown",
   "metadata": {
    "ExecuteTime": {
     "end_time": "2019-11-24T04:48:32.621570Z",
     "start_time": "2019-11-24T04:48:32.619355Z"
    }
   },
   "source": [
    "### Reference Table"
   ]
  },
  {
   "cell_type": "code",
   "execution_count": 68,
   "metadata": {
    "ExecuteTime": {
     "end_time": "2019-11-24T04:52:43.680654Z",
     "start_time": "2019-11-24T04:52:43.655092Z"
    }
   },
   "outputs": [
    {
     "data": {
      "text/html": [
       "<div>\n",
       "<style scoped>\n",
       "    .dataframe tbody tr th:only-of-type {\n",
       "        vertical-align: middle;\n",
       "    }\n",
       "\n",
       "    .dataframe tbody tr th {\n",
       "        vertical-align: top;\n",
       "    }\n",
       "\n",
       "    .dataframe thead th {\n",
       "        text-align: right;\n",
       "    }\n",
       "</style>\n",
       "<table border=\"1\" class=\"dataframe\">\n",
       "  <thead>\n",
       "    <tr style=\"text-align: right;\">\n",
       "      <th></th>\n",
       "      <th>Date</th>\n",
       "      <th>Game_Index</th>\n",
       "      <th>Team</th>\n",
       "      <th>GameYear</th>\n",
       "    </tr>\n",
       "  </thead>\n",
       "  <tbody>\n",
       "    <tr>\n",
       "      <th>0</th>\n",
       "      <td>2018-10-16</td>\n",
       "      <td>1</td>\n",
       "      <td>BOS</td>\n",
       "      <td>18</td>\n",
       "    </tr>\n",
       "    <tr>\n",
       "      <th>1</th>\n",
       "      <td>2018-10-16</td>\n",
       "      <td>1</td>\n",
       "      <td>PHI</td>\n",
       "      <td>18</td>\n",
       "    </tr>\n",
       "    <tr>\n",
       "      <th>2</th>\n",
       "      <td>2018-10-16</td>\n",
       "      <td>2</td>\n",
       "      <td>GSW</td>\n",
       "      <td>18</td>\n",
       "    </tr>\n",
       "    <tr>\n",
       "      <th>3</th>\n",
       "      <td>2018-10-16</td>\n",
       "      <td>2</td>\n",
       "      <td>OKC</td>\n",
       "      <td>18</td>\n",
       "    </tr>\n",
       "    <tr>\n",
       "      <th>4</th>\n",
       "      <td>2018-10-17</td>\n",
       "      <td>1</td>\n",
       "      <td>CHO</td>\n",
       "      <td>18</td>\n",
       "    </tr>\n",
       "  </tbody>\n",
       "</table>\n",
       "</div>"
      ],
      "text/plain": [
       "         Date  Game_Index Team  GameYear\n",
       "0  2018-10-16           1  BOS        18\n",
       "1  2018-10-16           1  PHI        18\n",
       "2  2018-10-16           2  GSW        18\n",
       "3  2018-10-16           2  OKC        18\n",
       "4  2018-10-17           1  CHO        18"
      ]
     },
     "execution_count": 68,
     "metadata": {},
     "output_type": "execute_result"
    }
   ],
   "source": [
    "ref_table = pd.read_csv(\"Team_Played_Date.csv\")\n",
    "ref_table.head()"
   ]
  },
  {
   "cell_type": "markdown",
   "metadata": {},
   "source": [
    "### Traditional"
   ]
  },
  {
   "cell_type": "code",
   "execution_count": 113,
   "metadata": {
    "ExecuteTime": {
     "end_time": "2019-11-24T07:28:11.513387Z",
     "start_time": "2019-11-24T07:28:11.509174Z"
    }
   },
   "outputs": [],
   "source": [
    "url = \"https://stats.nba.com/lineups/traditional/?Season=2007-08&SeasonType=Regular%20Season&TeamID=1610612757&DateFrom=10%2F30%2F2007&DateTo=10%2F30%2F2007\"\n",
    "season = \"2007\"\n",
    "season_next = str(int(season[-2:]) + 1) if int(season[-2:]) + 1 >= 10 else '0' + str(int(season[-2:]) + 1)\n",
    "teamid = \"1610612757\"\n",
    "yr = \"2007\"\n",
    "mt = \"10\"\n",
    "dy = \"30\"\n",
    "date_format = mt+\"%2F\"+dy+\"%2F\"+yr\n",
    "customized_url = \"https://stats.nba.com/lineups/advanced/?Season=\"+season+'-'+season_next+\"&SeasonType=Regular%20Season&TeamID=\"+teamid+\"&DateFrom=\"+date_format+\"&DateTo=\"+date_format"
   ]
  },
  {
   "cell_type": "code",
   "execution_count": 5,
   "metadata": {
    "ExecuteTime": {
     "end_time": "2019-11-24T03:32:56.435345Z",
     "start_time": "2019-11-24T03:32:56.431887Z"
    }
   },
   "outputs": [
    {
     "data": {
      "text/plain": [
       "'https://stats.nba.com/lineups/advanced/?Season=2007-08&SeasonType=Regular%20Season&TeamID=1610612757&DateFrom=10%2F30%2F2007&DateTo=10%2F30%2F2007'"
      ]
     },
     "execution_count": 5,
     "metadata": {},
     "output_type": "execute_result"
    }
   ],
   "source": [
    "customized_url"
   ]
  },
  {
   "cell_type": "markdown",
   "metadata": {
    "ExecuteTime": {
     "end_time": "2019-11-24T04:38:37.455930Z",
     "start_time": "2019-11-24T04:38:37.453730Z"
    }
   },
   "source": [
    "### Selenium"
   ]
  },
  {
   "cell_type": "code",
   "execution_count": 131,
   "metadata": {
    "ExecuteTime": {
     "end_time": "2019-11-24T07:45:27.184409Z",
     "start_time": "2019-11-24T07:45:27.178102Z"
    }
   },
   "outputs": [],
   "source": [
    "def parse_table(table, team, date):\n",
    "    stats = []\n",
    "    for line in table.text.split(\"\\n\")[1:]:\n",
    "        if line == \"\" or line == \"LINEUPS\":\n",
    "            break\n",
    "        else:\n",
    "            lineup = [', '.join([i.strip(\". +\") for i in line.split(\"POR\")[0].split(\",\")])]\n",
    "            stats.append(lineup + line.split(\"POR\")[1].strip(\" +\").split(\" \") + [team] + [date])\n",
    "\n",
    "    df_columns = ['lineup','GP','MIN','PTS','FGM','FGA','FG%','3PM',\n",
    "                  '3PA','3P%','FTM','FTA','FT%','OREB','DREB','REB',\n",
    "                  'AST','TOV','STL','BLK','BLKA','PF','PFD','+/-',\n",
    "                  'TEAM','GAMEDAY']\n",
    "\n",
    "    df = pd.DataFrame(stats,\n",
    "                     columns = df_columns)\n",
    "    return df\n",
    "\n"
   ]
  },
  {
   "cell_type": "code",
   "execution_count": null,
   "metadata": {},
   "outputs": [],
   "source": [
    "random.shuffle(ips)\n",
    "PROXY = ips[0]\n",
    "options = webdriver.ChromeOptions()\n",
    "options.add_argument('--proxy-server=%s' %PROXY)\n",
    "driver = webdriver.Chrome(executable_path = \"/Users/garyliu/Documents/chromedriver\",\n",
    "                          options = options)\n",
    "url = \"https://stats.nba.com/lineups/traditional/?Season=2007-08&SeasonType=Regular%20Season&TeamID=1610612757&DateFrom=10%2F30%2F2007&DateTo=10%2F30%2F2007\"\n",
    "#driver.implicitly_wait(10)  # 隐性等待，最久等30秒\n",
    "#WebDriverWait wait = new WebDriverWait(driver, 15, 1)\n",
    "#driver.set_page_load_timeout(20)\n",
    "driver.get(url)\n",
    "wait.until(lambda driver: driver.find_element_by_class_name(\"nba-stat-table\"))\n",
    "table = driver.find_element_by_class_name(\"nba-stat-table\")\n",
    "driver.close()"
   ]
  },
  {
   "cell_type": "code",
   "execution_count": 138,
   "metadata": {
    "ExecuteTime": {
     "end_time": "2019-11-24T07:57:50.232431Z",
     "start_time": "2019-11-24T07:57:40.596736Z"
    }
   },
   "outputs": [
    {
     "name": "stderr",
     "output_type": "stream",
     "text": [
      "/anaconda3/lib/python3.7/site-packages/ipykernel_launcher.py:9: DeprecationWarning: use options instead of chrome_options\n",
      "  if __name__ == '__main__':\n"
     ]
    },
    {
     "name": "stdout",
     "output_type": "stream",
     "text": [
      "waiting for finding the element.\n",
      "waiting for finding the element.\n"
     ]
    },
    {
     "ename": "KeyboardInterrupt",
     "evalue": "",
     "output_type": "error",
     "traceback": [
      "\u001b[0;31m---------------------------------------------------------------------------\u001b[0m",
      "\u001b[0;31mKeyboardInterrupt\u001b[0m                         Traceback (most recent call last)",
      "\u001b[0;32m<ipython-input-138-df4f26f94435>\u001b[0m in \u001b[0;36m<module>\u001b[0;34m\u001b[0m\n\u001b[1;32m     22\u001b[0m     \u001b[0;32mexcept\u001b[0m\u001b[0;34m:\u001b[0m\u001b[0;34m\u001b[0m\u001b[0;34m\u001b[0m\u001b[0m\n\u001b[1;32m     23\u001b[0m         \u001b[0mprint\u001b[0m\u001b[0;34m(\u001b[0m\u001b[0;34m\"waiting for finding the element.\"\u001b[0m\u001b[0;34m)\u001b[0m\u001b[0;34m\u001b[0m\u001b[0;34m\u001b[0m\u001b[0m\n\u001b[0;32m---> 24\u001b[0;31m     \u001b[0mtime\u001b[0m\u001b[0;34m.\u001b[0m\u001b[0msleep\u001b[0m\u001b[0;34m(\u001b[0m\u001b[0mrandom\u001b[0m\u001b[0;34m.\u001b[0m\u001b[0mrandint\u001b[0m\u001b[0;34m(\u001b[0m\u001b[0;36m1\u001b[0m\u001b[0;34m,\u001b[0m \u001b[0;36m3\u001b[0m\u001b[0;34m)\u001b[0m\u001b[0;34m)\u001b[0m\u001b[0;34m\u001b[0m\u001b[0;34m\u001b[0m\u001b[0m\n\u001b[0m",
      "\u001b[0;31mKeyboardInterrupt\u001b[0m: "
     ]
    }
   ],
   "source": [
    "#Initial\n",
    "date = \"2007-10-30\"\n",
    "team = \"POR\"\n",
    "error_game = []\n",
    "# Chrome Connection\n",
    "options = webdriver.ChromeOptions()\n",
    "options.add_argument('--proxy-server=http://43.229.26.24:36702')\n",
    "driver = webdriver.Chrome(executable_path = \"/Users/garyliu/Documents/chromedriver\",\n",
    "                           chrome_options = options)\n",
    "for test in range(10):\n",
    "    if test >= 9:\n",
    "        error_game.append(date + \"|\" + team)\n",
    "        print(\"Error: Time Out\")\n",
    "    try:\n",
    "        url = \"https://stats.nba.com/lineups/traditional/?Season=2007-08&SeasonType=Regular%20Season&TeamID=1610612757&DateFrom=10%2F30%2F2007&DateTo=10%2F30%2F2007\"\n",
    "        driver.implicitly_wait(30)  # 隐性等待，最久等30秒\n",
    "        driver.get(url)\n",
    "        table = driver.find_element_by_class_name(\"nba-stat-table\")\n",
    "        df = parse_table(table, team, date)\n",
    "        \n",
    "        break\n",
    "    except:\n",
    "        print(\"waiting for finding the element.\")\n",
    "    time.sleep(random.randint(1, 3))"
   ]
  },
  {
   "cell_type": "markdown",
   "metadata": {},
   "source": [
    "### Pyppeteer (Give up)"
   ]
  },
  {
   "cell_type": "markdown",
   "metadata": {},
   "source": [
    "[Reference1](https://ithelp.ithome.com.tw/articles/10225429)\n",
    "\n",
    "[Reference2](https://www.kingname.info/2019/08/18/hide-webdriver-in-pyppeteer/)\n",
    "\n",
    "[Network Error](https://github.com/miyakogi/pyppeteer/issues/171)\n",
    "\n",
    "[Network Error with fork](https://github.com/Francesco149/pyppeteer)"
   ]
  },
  {
   "cell_type": "markdown",
   "metadata": {},
   "source": [
    "#### Start Pyppeteer"
   ]
  },
  {
   "cell_type": "code",
   "execution_count": 19,
   "metadata": {
    "ExecuteTime": {
     "end_time": "2019-11-25T23:27:07.119979Z",
     "start_time": "2019-11-25T23:27:06.879523Z"
    }
   },
   "outputs": [],
   "source": [
    "# Team ID\n",
    "id_dict = {}\n",
    "with open(\"Team_id.txt\", \"r\") as file:\n",
    "    for line in file:\n",
    "        id_dict[line.split(\"|\")[0]] = line.split(\"|\")[1].strip(\"\\n\")\n",
    "\n",
    "# Game Reference Table\n",
    "ref_table = pd.read_csv(\"Team_Played_Date.csv\")\n",
    "ref_table[\"Team_id\"] = [id_dict[tm] for tm in ref_table[\"Team\"]]\n",
    "\n",
    "# Season\n",
    "def getGameYear(date_col):\n",
    "    gameYear = []\n",
    "    for day in date_col:\n",
    "        if int(day.split(\"-\")[1]) >= 9:\n",
    "            gameYear.append(day.split(\"-\")[0][-2:])\n",
    "        else:\n",
    "            gameYear.append(str(int(day.split(\"-\")[0][-2:]) - 1))\n",
    "    return gameYear\n",
    "ref_table[\"Season\"] = getGameYear(ref_table[\"Date\"])\n",
    "\n",
    "# Regular Season or not\n",
    "regularseason = []\n",
    "for gameday in ref_table['Date']:\n",
    "    d = datetime.date(int(gameday.split(\"-\")[0]),\n",
    "                      int(gameday.split(\"-\")[1]),\n",
    "                      int(gameday.split(\"-\")[2]))\n",
    "    if datetime.date(2006,10,31) <= d <= datetime.date(2007,4,18):\n",
    "        regularseason.append(1)\n",
    "    elif datetime.date(2007,10,30) <= d <= datetime.date(2008,4,16):\n",
    "        regularseason.append(1)\n",
    "    elif datetime.date(2008,10,28) <= d <= datetime.date(2009,4,16):\n",
    "        regularseason.append(1)\n",
    "    elif datetime.date(2009,10,27) <= d <= datetime.date(2010,4,14):\n",
    "        regularseason.append(1)\n",
    "    elif datetime.date(2010,10,26) <= d <= datetime.date(2011,4,13):\n",
    "        regularseason.append(1)\n",
    "    elif datetime.date(2011,12,25) <= d <= datetime.date(2012,4,26):\n",
    "        regularseason.append(1)        \n",
    "    elif datetime.date(2012,10,30) <= d <= datetime.date(2013,4,17):\n",
    "        regularseason.append(1)    \n",
    "    elif datetime.date(2013,10,29) <= d <= datetime.date(2014,4,16):\n",
    "        regularseason.append(1)  \n",
    "    elif datetime.date(2014,10,28) <= d <= datetime.date(2015,4,15):\n",
    "        regularseason.append(1)\n",
    "    elif datetime.date(2015,10,27) <= d <= datetime.date(2016,4,13):\n",
    "        regularseason.append(1)   \n",
    "    elif datetime.date(2016,10,25) <= d <= datetime.date(2017,4,12):\n",
    "        regularseason.append(1)\n",
    "    elif datetime.date(2017,10,17) <= d <= datetime.date(2018,4,11):\n",
    "        regularseason.append(1)\n",
    "    elif datetime.date(2018,10,16) <= d <= datetime.date(2019,4,10):\n",
    "        regularseason.append(1)\n",
    "    else:\n",
    "        regularseason.append(0)\n",
    "ref_table[\"RegularSeason\"] = regularseason"
   ]
  },
  {
   "cell_type": "code",
   "execution_count": null,
   "metadata": {
    "ExecuteTime": {
     "start_time": "2019-11-25T10:08:19.890Z"
    }
   },
   "outputs": [
    {
     "name": "stdout",
     "output_type": "stream",
     "text": [
      "https://stats.nba.com/lineups/traditional/?Season=2018-19&SeasonType=Regular%20Season&TeamID=1610612760&DateFrom=2018%2F10%2F16&DateTo=2018%2F10%2F16\n",
      "success\n",
      "___\n",
      "https://stats.nba.com/lineups/traditional/?Season=2018-19&SeasonType=Regular%20Season&TeamID=1610612766&DateFrom=2018%2F10%2F17&DateTo=2018%2F10%2F17\n",
      "success\n",
      "___\n",
      "Error: 2018-10-17|CHO\n",
      "https://stats.nba.com/lineups/traditional/?Season=2018-19&SeasonType=Regular%20Season&TeamID=1610612749&DateFrom=2018%2F10%2F17&DateTo=2018%2F10%2F17\n",
      "Error: 2018-10-17|MIL\n",
      "https://stats.nba.com/lineups/traditional/?Season=2018-19&SeasonType=Regular%20Season&TeamID=1610612765&DateFrom=2018%2F10%2F17&DateTo=2018%2F10%2F17\n",
      "Error: 2018-10-17|DET\n",
      "https://stats.nba.com/lineups/traditional/?Season=2018-19&SeasonType=Regular%20Season&TeamID=1610612751&DateFrom=2018%2F10%2F17&DateTo=2018%2F10%2F17\n",
      "Error: 2018-10-17|BRK\n"
     ]
    },
    {
     "ename": "RuntimeError",
     "evalue": "This event loop is already running",
     "output_type": "error",
     "traceback": [
      "\u001b[0;31m---------------------------------------------------------------------------\u001b[0m",
      "\u001b[0;31mRuntimeError\u001b[0m                              Traceback (most recent call last)",
      "\u001b[0;32m/anaconda3/lib/python3.7/runpy.py\u001b[0m in \u001b[0;36m_run_module_as_main\u001b[0;34m(mod_name, alter_argv)\u001b[0m\n\u001b[1;32m    191\u001b[0m         \u001b[0msys\u001b[0m\u001b[0;34m.\u001b[0m\u001b[0margv\u001b[0m\u001b[0;34m[\u001b[0m\u001b[0;36m0\u001b[0m\u001b[0;34m]\u001b[0m \u001b[0;34m=\u001b[0m \u001b[0mmod_spec\u001b[0m\u001b[0;34m.\u001b[0m\u001b[0morigin\u001b[0m\u001b[0;34m\u001b[0m\u001b[0;34m\u001b[0m\u001b[0m\n\u001b[1;32m    192\u001b[0m     return _run_code(code, main_globals, None,\n\u001b[0;32m--> 193\u001b[0;31m                      \"__main__\", mod_spec)\n\u001b[0m\u001b[1;32m    194\u001b[0m \u001b[0;34m\u001b[0m\u001b[0m\n\u001b[1;32m    195\u001b[0m def run_module(mod_name, init_globals=None,\n",
      "\u001b[0;32m/anaconda3/lib/python3.7/runpy.py\u001b[0m in \u001b[0;36m_run_code\u001b[0;34m(code, run_globals, init_globals, mod_name, mod_spec, pkg_name, script_name)\u001b[0m\n\u001b[1;32m     83\u001b[0m                        \u001b[0m__package__\u001b[0m \u001b[0;34m=\u001b[0m \u001b[0mpkg_name\u001b[0m\u001b[0;34m,\u001b[0m\u001b[0;34m\u001b[0m\u001b[0;34m\u001b[0m\u001b[0m\n\u001b[1;32m     84\u001b[0m                        __spec__ = mod_spec)\n\u001b[0;32m---> 85\u001b[0;31m     \u001b[0mexec\u001b[0m\u001b[0;34m(\u001b[0m\u001b[0mcode\u001b[0m\u001b[0;34m,\u001b[0m \u001b[0mrun_globals\u001b[0m\u001b[0;34m)\u001b[0m\u001b[0;34m\u001b[0m\u001b[0;34m\u001b[0m\u001b[0m\n\u001b[0m\u001b[1;32m     86\u001b[0m     \u001b[0;32mreturn\u001b[0m \u001b[0mrun_globals\u001b[0m\u001b[0;34m\u001b[0m\u001b[0;34m\u001b[0m\u001b[0m\n\u001b[1;32m     87\u001b[0m \u001b[0;34m\u001b[0m\u001b[0m\n",
      "\u001b[0;32m/anaconda3/lib/python3.7/site-packages/ipykernel_launcher.py\u001b[0m in \u001b[0;36m<module>\u001b[0;34m\u001b[0m\n\u001b[1;32m     14\u001b[0m \u001b[0;34m\u001b[0m\u001b[0m\n\u001b[1;32m     15\u001b[0m     \u001b[0;32mfrom\u001b[0m \u001b[0mipykernel\u001b[0m \u001b[0;32mimport\u001b[0m \u001b[0mkernelapp\u001b[0m \u001b[0;32mas\u001b[0m \u001b[0mapp\u001b[0m\u001b[0;34m\u001b[0m\u001b[0;34m\u001b[0m\u001b[0m\n\u001b[0;32m---> 16\u001b[0;31m     \u001b[0mapp\u001b[0m\u001b[0;34m.\u001b[0m\u001b[0mlaunch_new_instance\u001b[0m\u001b[0;34m(\u001b[0m\u001b[0;34m)\u001b[0m\u001b[0;34m\u001b[0m\u001b[0;34m\u001b[0m\u001b[0m\n\u001b[0m",
      "\u001b[0;32m/anaconda3/lib/python3.7/site-packages/traitlets/config/application.py\u001b[0m in \u001b[0;36mlaunch_instance\u001b[0;34m(cls, argv, **kwargs)\u001b[0m\n\u001b[1;32m    656\u001b[0m         \u001b[0mapp\u001b[0m \u001b[0;34m=\u001b[0m \u001b[0mcls\u001b[0m\u001b[0;34m.\u001b[0m\u001b[0minstance\u001b[0m\u001b[0;34m(\u001b[0m\u001b[0;34m**\u001b[0m\u001b[0mkwargs\u001b[0m\u001b[0;34m)\u001b[0m\u001b[0;34m\u001b[0m\u001b[0;34m\u001b[0m\u001b[0m\n\u001b[1;32m    657\u001b[0m         \u001b[0mapp\u001b[0m\u001b[0;34m.\u001b[0m\u001b[0minitialize\u001b[0m\u001b[0;34m(\u001b[0m\u001b[0margv\u001b[0m\u001b[0;34m)\u001b[0m\u001b[0;34m\u001b[0m\u001b[0;34m\u001b[0m\u001b[0m\n\u001b[0;32m--> 658\u001b[0;31m         \u001b[0mapp\u001b[0m\u001b[0;34m.\u001b[0m\u001b[0mstart\u001b[0m\u001b[0;34m(\u001b[0m\u001b[0;34m)\u001b[0m\u001b[0;34m\u001b[0m\u001b[0;34m\u001b[0m\u001b[0m\n\u001b[0m\u001b[1;32m    659\u001b[0m \u001b[0;34m\u001b[0m\u001b[0m\n\u001b[1;32m    660\u001b[0m \u001b[0;31m#-----------------------------------------------------------------------------\u001b[0m\u001b[0;34m\u001b[0m\u001b[0;34m\u001b[0m\u001b[0;34m\u001b[0m\u001b[0m\n",
      "\u001b[0;32m/anaconda3/lib/python3.7/site-packages/ipykernel/kernelapp.py\u001b[0m in \u001b[0;36mstart\u001b[0;34m(self)\u001b[0m\n\u001b[1;32m    503\u001b[0m         \u001b[0mself\u001b[0m\u001b[0;34m.\u001b[0m\u001b[0mio_loop\u001b[0m \u001b[0;34m=\u001b[0m \u001b[0mioloop\u001b[0m\u001b[0;34m.\u001b[0m\u001b[0mIOLoop\u001b[0m\u001b[0;34m.\u001b[0m\u001b[0mcurrent\u001b[0m\u001b[0;34m(\u001b[0m\u001b[0;34m)\u001b[0m\u001b[0;34m\u001b[0m\u001b[0;34m\u001b[0m\u001b[0m\n\u001b[1;32m    504\u001b[0m         \u001b[0;32mtry\u001b[0m\u001b[0;34m:\u001b[0m\u001b[0;34m\u001b[0m\u001b[0;34m\u001b[0m\u001b[0m\n\u001b[0;32m--> 505\u001b[0;31m             \u001b[0mself\u001b[0m\u001b[0;34m.\u001b[0m\u001b[0mio_loop\u001b[0m\u001b[0;34m.\u001b[0m\u001b[0mstart\u001b[0m\u001b[0;34m(\u001b[0m\u001b[0;34m)\u001b[0m\u001b[0;34m\u001b[0m\u001b[0;34m\u001b[0m\u001b[0m\n\u001b[0m\u001b[1;32m    506\u001b[0m         \u001b[0;32mexcept\u001b[0m \u001b[0mKeyboardInterrupt\u001b[0m\u001b[0;34m:\u001b[0m\u001b[0;34m\u001b[0m\u001b[0;34m\u001b[0m\u001b[0m\n\u001b[1;32m    507\u001b[0m             \u001b[0;32mpass\u001b[0m\u001b[0;34m\u001b[0m\u001b[0;34m\u001b[0m\u001b[0m\n",
      "\u001b[0;32m/anaconda3/lib/python3.7/site-packages/tornado/platform/asyncio.py\u001b[0m in \u001b[0;36mstart\u001b[0;34m(self)\u001b[0m\n\u001b[1;32m    146\u001b[0m             \u001b[0mself\u001b[0m\u001b[0;34m.\u001b[0m\u001b[0m_setup_logging\u001b[0m\u001b[0;34m(\u001b[0m\u001b[0;34m)\u001b[0m\u001b[0;34m\u001b[0m\u001b[0;34m\u001b[0m\u001b[0m\n\u001b[1;32m    147\u001b[0m             \u001b[0masyncio\u001b[0m\u001b[0;34m.\u001b[0m\u001b[0mset_event_loop\u001b[0m\u001b[0;34m(\u001b[0m\u001b[0mself\u001b[0m\u001b[0;34m.\u001b[0m\u001b[0masyncio_loop\u001b[0m\u001b[0;34m)\u001b[0m\u001b[0;34m\u001b[0m\u001b[0;34m\u001b[0m\u001b[0m\n\u001b[0;32m--> 148\u001b[0;31m             \u001b[0mself\u001b[0m\u001b[0;34m.\u001b[0m\u001b[0masyncio_loop\u001b[0m\u001b[0;34m.\u001b[0m\u001b[0mrun_forever\u001b[0m\u001b[0;34m(\u001b[0m\u001b[0;34m)\u001b[0m\u001b[0;34m\u001b[0m\u001b[0;34m\u001b[0m\u001b[0m\n\u001b[0m\u001b[1;32m    149\u001b[0m         \u001b[0;32mfinally\u001b[0m\u001b[0;34m:\u001b[0m\u001b[0;34m\u001b[0m\u001b[0;34m\u001b[0m\u001b[0m\n\u001b[1;32m    150\u001b[0m             \u001b[0masyncio\u001b[0m\u001b[0;34m.\u001b[0m\u001b[0mset_event_loop\u001b[0m\u001b[0;34m(\u001b[0m\u001b[0mold_loop\u001b[0m\u001b[0;34m)\u001b[0m\u001b[0;34m\u001b[0m\u001b[0;34m\u001b[0m\u001b[0m\n",
      "\u001b[0;32m/anaconda3/lib/python3.7/asyncio/base_events.py\u001b[0m in \u001b[0;36mrun_forever\u001b[0;34m(self)\u001b[0m\n\u001b[1;32m    537\u001b[0m             \u001b[0mevents\u001b[0m\u001b[0;34m.\u001b[0m\u001b[0m_set_running_loop\u001b[0m\u001b[0;34m(\u001b[0m\u001b[0mself\u001b[0m\u001b[0;34m)\u001b[0m\u001b[0;34m\u001b[0m\u001b[0;34m\u001b[0m\u001b[0m\n\u001b[1;32m    538\u001b[0m             \u001b[0;32mwhile\u001b[0m \u001b[0;32mTrue\u001b[0m\u001b[0;34m:\u001b[0m\u001b[0;34m\u001b[0m\u001b[0;34m\u001b[0m\u001b[0m\n\u001b[0;32m--> 539\u001b[0;31m                 \u001b[0mself\u001b[0m\u001b[0;34m.\u001b[0m\u001b[0m_run_once\u001b[0m\u001b[0;34m(\u001b[0m\u001b[0;34m)\u001b[0m\u001b[0;34m\u001b[0m\u001b[0;34m\u001b[0m\u001b[0m\n\u001b[0m\u001b[1;32m    540\u001b[0m                 \u001b[0;32mif\u001b[0m \u001b[0mself\u001b[0m\u001b[0;34m.\u001b[0m\u001b[0m_stopping\u001b[0m\u001b[0;34m:\u001b[0m\u001b[0;34m\u001b[0m\u001b[0;34m\u001b[0m\u001b[0m\n\u001b[1;32m    541\u001b[0m                     \u001b[0;32mbreak\u001b[0m\u001b[0;34m\u001b[0m\u001b[0;34m\u001b[0m\u001b[0m\n",
      "\u001b[0;32m/anaconda3/lib/python3.7/asyncio/base_events.py\u001b[0m in \u001b[0;36m_run_once\u001b[0;34m(self)\u001b[0m\n\u001b[1;32m   1737\u001b[0m                            timeout * 1e3, dt * 1e3)\n\u001b[1;32m   1738\u001b[0m         \u001b[0;32melse\u001b[0m\u001b[0;34m:\u001b[0m\u001b[0;34m\u001b[0m\u001b[0;34m\u001b[0m\u001b[0m\n\u001b[0;32m-> 1739\u001b[0;31m             \u001b[0mevent_list\u001b[0m \u001b[0;34m=\u001b[0m \u001b[0mself\u001b[0m\u001b[0;34m.\u001b[0m\u001b[0m_selector\u001b[0m\u001b[0;34m.\u001b[0m\u001b[0mselect\u001b[0m\u001b[0;34m(\u001b[0m\u001b[0mtimeout\u001b[0m\u001b[0;34m)\u001b[0m\u001b[0;34m\u001b[0m\u001b[0;34m\u001b[0m\u001b[0m\n\u001b[0m\u001b[1;32m   1740\u001b[0m         \u001b[0mself\u001b[0m\u001b[0;34m.\u001b[0m\u001b[0m_process_events\u001b[0m\u001b[0;34m(\u001b[0m\u001b[0mevent_list\u001b[0m\u001b[0;34m)\u001b[0m\u001b[0;34m\u001b[0m\u001b[0;34m\u001b[0m\u001b[0m\n\u001b[1;32m   1741\u001b[0m \u001b[0;34m\u001b[0m\u001b[0m\n",
      "\u001b[0;32m/anaconda3/lib/python3.7/selectors.py\u001b[0m in \u001b[0;36mselect\u001b[0;34m(self, timeout)\u001b[0m\n\u001b[1;32m    556\u001b[0m             \u001b[0mready\u001b[0m \u001b[0;34m=\u001b[0m \u001b[0;34m[\u001b[0m\u001b[0;34m]\u001b[0m\u001b[0;34m\u001b[0m\u001b[0;34m\u001b[0m\u001b[0m\n\u001b[1;32m    557\u001b[0m             \u001b[0;32mtry\u001b[0m\u001b[0;34m:\u001b[0m\u001b[0;34m\u001b[0m\u001b[0;34m\u001b[0m\u001b[0m\n\u001b[0;32m--> 558\u001b[0;31m                 \u001b[0mkev_list\u001b[0m \u001b[0;34m=\u001b[0m \u001b[0mself\u001b[0m\u001b[0;34m.\u001b[0m\u001b[0m_selector\u001b[0m\u001b[0;34m.\u001b[0m\u001b[0mcontrol\u001b[0m\u001b[0;34m(\u001b[0m\u001b[0;32mNone\u001b[0m\u001b[0;34m,\u001b[0m \u001b[0mmax_ev\u001b[0m\u001b[0;34m,\u001b[0m \u001b[0mtimeout\u001b[0m\u001b[0;34m)\u001b[0m\u001b[0;34m\u001b[0m\u001b[0;34m\u001b[0m\u001b[0m\n\u001b[0m\u001b[1;32m    559\u001b[0m             \u001b[0;32mexcept\u001b[0m \u001b[0mInterruptedError\u001b[0m\u001b[0;34m:\u001b[0m\u001b[0;34m\u001b[0m\u001b[0;34m\u001b[0m\u001b[0m\n\u001b[1;32m    560\u001b[0m                 \u001b[0;32mreturn\u001b[0m \u001b[0mready\u001b[0m\u001b[0;34m\u001b[0m\u001b[0;34m\u001b[0m\u001b[0m\n",
      "\u001b[0;32m/anaconda3/lib/python3.7/site-packages/pyppeteer/launcher.py\u001b[0m in \u001b[0;36m_close_process\u001b[0;34m(*args, **kwargs)\u001b[0m\n\u001b[1;32m    172\u001b[0m         \u001b[0;32mdef\u001b[0m \u001b[0m_close_process\u001b[0m\u001b[0;34m(\u001b[0m\u001b[0;34m*\u001b[0m\u001b[0margs\u001b[0m\u001b[0;34m:\u001b[0m \u001b[0mAny\u001b[0m\u001b[0;34m,\u001b[0m \u001b[0;34m**\u001b[0m\u001b[0mkwargs\u001b[0m\u001b[0;34m:\u001b[0m \u001b[0mAny\u001b[0m\u001b[0;34m)\u001b[0m \u001b[0;34m->\u001b[0m \u001b[0;32mNone\u001b[0m\u001b[0;34m:\u001b[0m\u001b[0;34m\u001b[0m\u001b[0;34m\u001b[0m\u001b[0m\n\u001b[1;32m    173\u001b[0m             \u001b[0;32mif\u001b[0m \u001b[0;32mnot\u001b[0m \u001b[0mself\u001b[0m\u001b[0;34m.\u001b[0m\u001b[0mchromeClosed\u001b[0m\u001b[0;34m:\u001b[0m\u001b[0;34m\u001b[0m\u001b[0;34m\u001b[0m\u001b[0m\n\u001b[0;32m--> 174\u001b[0;31m                 \u001b[0mself\u001b[0m\u001b[0;34m.\u001b[0m\u001b[0m_loop\u001b[0m\u001b[0;34m.\u001b[0m\u001b[0mrun_until_complete\u001b[0m\u001b[0;34m(\u001b[0m\u001b[0mself\u001b[0m\u001b[0;34m.\u001b[0m\u001b[0mkillChrome\u001b[0m\u001b[0;34m(\u001b[0m\u001b[0;34m)\u001b[0m\u001b[0;34m)\u001b[0m\u001b[0;34m\u001b[0m\u001b[0;34m\u001b[0m\u001b[0m\n\u001b[0m\u001b[1;32m    175\u001b[0m \u001b[0;34m\u001b[0m\u001b[0m\n\u001b[1;32m    176\u001b[0m         \u001b[0;31m# don't forget to close browser process\u001b[0m\u001b[0;34m\u001b[0m\u001b[0;34m\u001b[0m\u001b[0;34m\u001b[0m\u001b[0m\n",
      "\u001b[0;32m/anaconda3/lib/python3.7/asyncio/base_events.py\u001b[0m in \u001b[0;36mrun_until_complete\u001b[0;34m(self, future)\u001b[0m\n\u001b[1;32m    569\u001b[0m         \u001b[0mfuture\u001b[0m\u001b[0;34m.\u001b[0m\u001b[0madd_done_callback\u001b[0m\u001b[0;34m(\u001b[0m\u001b[0m_run_until_complete_cb\u001b[0m\u001b[0;34m)\u001b[0m\u001b[0;34m\u001b[0m\u001b[0;34m\u001b[0m\u001b[0m\n\u001b[1;32m    570\u001b[0m         \u001b[0;32mtry\u001b[0m\u001b[0;34m:\u001b[0m\u001b[0;34m\u001b[0m\u001b[0;34m\u001b[0m\u001b[0m\n\u001b[0;32m--> 571\u001b[0;31m             \u001b[0mself\u001b[0m\u001b[0;34m.\u001b[0m\u001b[0mrun_forever\u001b[0m\u001b[0;34m(\u001b[0m\u001b[0;34m)\u001b[0m\u001b[0;34m\u001b[0m\u001b[0;34m\u001b[0m\u001b[0m\n\u001b[0m\u001b[1;32m    572\u001b[0m         \u001b[0;32mexcept\u001b[0m\u001b[0;34m:\u001b[0m\u001b[0;34m\u001b[0m\u001b[0;34m\u001b[0m\u001b[0m\n\u001b[1;32m    573\u001b[0m             \u001b[0;32mif\u001b[0m \u001b[0mnew_task\u001b[0m \u001b[0;32mand\u001b[0m \u001b[0mfuture\u001b[0m\u001b[0;34m.\u001b[0m\u001b[0mdone\u001b[0m\u001b[0;34m(\u001b[0m\u001b[0;34m)\u001b[0m \u001b[0;32mand\u001b[0m \u001b[0;32mnot\u001b[0m \u001b[0mfuture\u001b[0m\u001b[0;34m.\u001b[0m\u001b[0mcancelled\u001b[0m\u001b[0;34m(\u001b[0m\u001b[0;34m)\u001b[0m\u001b[0;34m:\u001b[0m\u001b[0;34m\u001b[0m\u001b[0;34m\u001b[0m\u001b[0m\n",
      "\u001b[0;32m/anaconda3/lib/python3.7/asyncio/base_events.py\u001b[0m in \u001b[0;36mrun_forever\u001b[0;34m(self)\u001b[0m\n\u001b[1;32m    524\u001b[0m         \u001b[0mself\u001b[0m\u001b[0;34m.\u001b[0m\u001b[0m_check_closed\u001b[0m\u001b[0;34m(\u001b[0m\u001b[0;34m)\u001b[0m\u001b[0;34m\u001b[0m\u001b[0;34m\u001b[0m\u001b[0m\n\u001b[1;32m    525\u001b[0m         \u001b[0;32mif\u001b[0m \u001b[0mself\u001b[0m\u001b[0;34m.\u001b[0m\u001b[0mis_running\u001b[0m\u001b[0;34m(\u001b[0m\u001b[0;34m)\u001b[0m\u001b[0;34m:\u001b[0m\u001b[0;34m\u001b[0m\u001b[0;34m\u001b[0m\u001b[0m\n\u001b[0;32m--> 526\u001b[0;31m             \u001b[0;32mraise\u001b[0m \u001b[0mRuntimeError\u001b[0m\u001b[0;34m(\u001b[0m\u001b[0;34m'This event loop is already running'\u001b[0m\u001b[0;34m)\u001b[0m\u001b[0;34m\u001b[0m\u001b[0;34m\u001b[0m\u001b[0m\n\u001b[0m\u001b[1;32m    527\u001b[0m         \u001b[0;32mif\u001b[0m \u001b[0mevents\u001b[0m\u001b[0;34m.\u001b[0m\u001b[0m_get_running_loop\u001b[0m\u001b[0;34m(\u001b[0m\u001b[0;34m)\u001b[0m \u001b[0;32mis\u001b[0m \u001b[0;32mnot\u001b[0m \u001b[0;32mNone\u001b[0m\u001b[0;34m:\u001b[0m\u001b[0;34m\u001b[0m\u001b[0;34m\u001b[0m\u001b[0m\n\u001b[1;32m    528\u001b[0m             raise RuntimeError(\n",
      "\u001b[0;31mRuntimeError\u001b[0m: This event loop is already running"
     ]
    },
    {
     "name": "stderr",
     "output_type": "stream",
     "text": [
      "ERROR:root:Invalid alias: The name clear can't be aliased because it is another magic command.\n",
      "ERROR:root:Invalid alias: The name more can't be aliased because it is another magic command.\n",
      "ERROR:root:Invalid alias: The name less can't be aliased because it is another magic command.\n",
      "ERROR:root:Invalid alias: The name man can't be aliased because it is another magic command.\n"
     ]
    }
   ],
   "source": [
    "browser = await launch(headless = False)\n",
    "page = await browser.newPage()\n",
    "await page.setUserAgent('Mozilla/5.0 (Windows NT 6.1; Win64; x64) AppleWebKit/537.36 (KHTML, like Gecko) Chrome/70.0.3538.67 Safari/537.36')\n",
    "\n",
    "new_table = ref_table.iloc[3:10,:]\n",
    "stats = []\n",
    "errorGame = []\n",
    "for ind in range(new_table.shape[0]):\n",
    "    # Get url information\n",
    "    spec_table = new_table.iloc[ind, :]\n",
    "    season = \"20\" + spec_table[\"Season\"]\n",
    "    season_next = str(int(season[-2:]) + 1) if int(season[-2:]) + 1 >= 10 else '0' + str(int(season[-2:]) + 1)\n",
    "    date_format = \"%2F\".join(spec_table[\"Date\"].split(\"-\"))\n",
    "    teamid = spec_table[\"Team_id\"]\n",
    "    url = \"https://stats.nba.com/lineups/traditional/?Season=\"+season+'-'+season_next+\"&SeasonType=Regular%20Season&TeamID=\"+teamid+\"&DateFrom=\"+date_format+\"&DateTo=\"+date_format\n",
    "    print(url)\n",
    "\n",
    "    try:\n",
    "        # Go to the page\n",
    "        await page.goto(url)\n",
    "        print(\"success\")\n",
    "        # Wait for the page setting down\n",
    "#         while not await page.waitForSelector(\"body\"):\n",
    "#             await asyncio.sleep(1)\n",
    "#             pass\n",
    "        await page.waitForSelector(\"body\", timeout = 10000)\n",
    "        print(\"___\")\n",
    "        html_doc = await page.content()\n",
    "\n",
    "        # Parse html\n",
    "        soup = BeautifulSoup(html_doc, \"lxml\")\n",
    "        # Extract statistics\n",
    "        tb = soup.find_all(\"div\", class_=\"nba-stat-table\")[0].find(\"tbody\").find_all(\"tr\")\n",
    "\n",
    "        for i in range(tb.__len__()):\n",
    "            stats.append([ele.text.strip(\"(\\n| |.)+\") for ele in tb[i].find_all(\"td\")] + [spec_table[\"Date\"]])\n",
    "\n",
    "        # Sleep\n",
    "        await asyncio.sleep(random.randint(5,10))\n",
    "    except:\n",
    "        print(\"Error: \" + spec_table[\"Date\"] + \"|\" + spec_table[\"Team\"])\n",
    "        await asyncio.sleep(random.randint(5,10))\n",
    "# DataFrame\n",
    "df_columns = ['lineup','TEAM','GP','MIN','PTS','FGM','FGA','FG%','3PM',\n",
    "                '3PA','3P%','FTM','FTA','FT%','OREB','DREB','REB',\n",
    "                'AST','TOV','STL','BLK','BLKA','PF','PFD','+/-','GAMEDAY']\n",
    "table_section = pd.DataFrame(stats)"
   ]
  },
  {
   "cell_type": "markdown",
   "metadata": {},
   "source": [
    "### Advanced"
   ]
  },
  {
   "cell_type": "code",
   "execution_count": 5,
   "metadata": {
    "ExecuteTime": {
     "end_time": "2019-11-25T10:01:56.237211Z",
     "start_time": "2019-11-25T10:01:53.134614Z"
    }
   },
   "outputs": [
    {
     "data": {
      "text/plain": [
       "<pyppeteer.element_handle.ElementHandle at 0x7fc8c056d160>"
      ]
     },
     "execution_count": 5,
     "metadata": {},
     "output_type": "execute_result"
    }
   ],
   "source": [
    "browser = await launch(headless = False)\n",
    "page = await browser.newPage()\n",
    "await page.setUserAgent('Mozilla/5.0 (Windows NT 6.1; Win64; x64) AppleWebKit/537.36 (KHTML, like Gecko) Chrome/70.0.3538.67 Safari/537.36')\n",
    "await page.goto(\"https://stats.nba.com/lineups/traditional/?Season=2018-19&SeasonType=Regular%20Season&TeamID=1610612745&DateFrom=2018%2F10%2F17&DateTo=2018%2F10%2F17\")\n",
    "await page.waitForSelector(\"body\", timeout=10000)"
   ]
  },
  {
   "cell_type": "code",
   "execution_count": 3,
   "metadata": {
    "ExecuteTime": {
     "end_time": "2019-11-26T03:10:02.506878Z",
     "start_time": "2019-11-26T03:10:00.802149Z"
    }
   },
   "outputs": [],
   "source": [
    "existed_traditional_data = pd.read_csv(\"https://raw.githubusercontent.com/BaselineAnalytics/IntroductiontoDataScience/zye/data/lineup_traditional_exist_check.csv\")"
   ]
  },
  {
   "cell_type": "code",
   "execution_count": 9,
   "metadata": {
    "ExecuteTime": {
     "end_time": "2019-11-26T03:40:50.132138Z",
     "start_time": "2019-11-26T03:40:50.125949Z"
    }
   },
   "outputs": [],
   "source": [
    "missing_table = existed_traditional_data[existed_traditional_data[\"exist_check\"].isnull()]"
   ]
  },
  {
   "cell_type": "code",
   "execution_count": 11,
   "metadata": {
    "ExecuteTime": {
     "end_time": "2019-11-26T03:41:22.401830Z",
     "start_time": "2019-11-26T03:41:22.392331Z"
    }
   },
   "outputs": [
    {
     "data": {
      "text/plain": [
       "<bound method NDFrame.head of          Date_fmt Home_abb   Season\n",
       "4      2008-05-28      BOS  2007-08\n",
       "5      2008-05-22      BOS  2007-08\n",
       "6      2008-05-20      BOS  2007-08\n",
       "11     2008-05-18      BOS  2007-08\n",
       "13     2008-05-14      BOS  2007-08\n",
       "14     2008-05-08      BOS  2007-08\n",
       "28     2008-05-03      NOH  2007-08\n",
       "29     2008-05-05      NOH  2007-08\n",
       "30     2008-05-13      NOH  2007-08\n",
       "31     2008-05-19      NOH  2007-08\n",
       "32     2008-05-08      SAS  2007-08\n",
       "34     2008-05-11      SAS  2007-08\n",
       "40     2008-05-06      BOS  2007-08\n",
       "48     2008-04-19      NOH  2007-08\n",
       "56     2008-01-25      NOH  2007-08\n",
       "66     2008-01-28      NOH  2007-08\n",
       "74     2008-01-30      NOH  2007-08\n",
       "82     2008-04-22      NOH  2007-08\n",
       "84     2008-04-29      NOH  2007-08\n",
       "109    2007-12-31      NOH  2007-08\n",
       "125    2007-12-07      NOH  2007-08\n",
       "126    2007-12-09      NOH  2007-08\n",
       "139    2008-04-28      DEN  2007-08\n",
       "142    2007-11-26      NOH  2007-08\n",
       "147    2008-04-26      DEN  2007-08\n",
       "150    2008-01-18      NOH  2007-08\n",
       "156    2008-05-04      BOS  2007-08\n",
       "165    2007-11-02      NOH  2007-08\n",
       "172    2007-11-19      NOH  2007-08\n",
       "179    2008-01-23      NOH  2007-08\n",
       "...           ...      ...      ...\n",
       "15595  2019-03-05      TOR  2018-19\n",
       "15596  2019-02-26      NYK  2018-19\n",
       "15597  2019-05-06      BOS  2018-19\n",
       "15598  2018-10-30      TOR  2018-19\n",
       "15599  2019-02-28      DEN  2018-19\n",
       "15600  2018-11-28      LAC  2018-19\n",
       "15601  2018-11-27      MIA  2018-19\n",
       "15602  2019-03-29      BOS  2018-19\n",
       "15603  2019-02-21      CLE  2018-19\n",
       "15604  2019-04-05      LAC  2018-19\n",
       "15605  2019-01-01      TOR  2018-19\n",
       "15606  2018-11-01      CHA  2018-19\n",
       "15607  2019-01-27      LAC  2018-19\n",
       "15608  2019-04-13      TOR  2018-19\n",
       "15609  2018-11-09      MIA  2018-19\n",
       "15610  2019-03-16      BOS  2018-19\n",
       "15611  2019-01-16      LAC  2018-19\n",
       "15612  2019-03-24      TOR  2018-19\n",
       "15613  2018-11-07      MIA  2018-19\n",
       "15614  2019-03-20      PHI  2018-19\n",
       "15615  2018-11-02      ORL  2018-19\n",
       "15616  2018-11-03      PHI  2018-19\n",
       "15617  2019-04-15      PHI  2018-19\n",
       "15618  2019-03-03      LAC  2018-19\n",
       "15619  2018-11-20      MIA  2018-19\n",
       "15620  2019-01-18      LAC  2018-19\n",
       "15621  2018-10-20      PHI  2018-19\n",
       "15622  2019-03-03      CHI  2018-19\n",
       "15623  2019-02-01      CHA  2018-19\n",
       "15624  2018-12-13      ORL  2018-19\n",
       "\n",
       "[12268 rows x 3 columns]>"
      ]
     },
     "execution_count": 11,
     "metadata": {},
     "output_type": "execute_result"
    }
   ],
   "source": [
    "missing_table.loc[:, [\"Date_fmt\", \"Home_abb\", \"Season\"]].head"
   ]
  },
  {
   "cell_type": "code",
   "execution_count": null,
   "metadata": {},
   "outputs": [],
   "source": []
  }
 ],
 "metadata": {
  "kernelspec": {
   "display_name": "Python 3",
   "language": "python",
   "name": "python3"
  },
  "language_info": {
   "codemirror_mode": {
    "name": "ipython",
    "version": 3
   },
   "file_extension": ".py",
   "mimetype": "text/x-python",
   "name": "python",
   "nbconvert_exporter": "python",
   "pygments_lexer": "ipython3",
   "version": "3.7.3"
  },
  "latex_envs": {
   "LaTeX_envs_menu_present": true,
   "autoclose": false,
   "autocomplete": true,
   "bibliofile": "biblio.bib",
   "cite_by": "apalike",
   "current_citInitial": 1,
   "eqLabelWithNumbers": true,
   "eqNumInitial": 1,
   "hotkeys": {
    "equation": "Ctrl-E",
    "itemize": "Ctrl-I"
   },
   "labels_anchors": false,
   "latex_user_defs": false,
   "report_style_numbering": false,
   "user_envs_cfg": false
  },
  "toc": {
   "base_numbering": 1,
   "nav_menu": {},
   "number_sections": true,
   "sideBar": true,
   "skip_h1_title": false,
   "title_cell": "Table of Contents",
   "title_sidebar": "Contents",
   "toc_cell": false,
   "toc_position": {},
   "toc_section_display": true,
   "toc_window_display": false
  },
  "varInspector": {
   "cols": {
    "lenName": 16,
    "lenType": 16,
    "lenVar": 40
   },
   "kernels_config": {
    "python": {
     "delete_cmd_postfix": "",
     "delete_cmd_prefix": "del ",
     "library": "var_list.py",
     "varRefreshCmd": "print(var_dic_list())"
    },
    "r": {
     "delete_cmd_postfix": ") ",
     "delete_cmd_prefix": "rm(",
     "library": "var_list.r",
     "varRefreshCmd": "cat(var_dic_list()) "
    }
   },
   "types_to_exclude": [
    "module",
    "function",
    "builtin_function_or_method",
    "instance",
    "_Feature"
   ],
   "window_display": false
  }
 },
 "nbformat": 4,
 "nbformat_minor": 2
}
